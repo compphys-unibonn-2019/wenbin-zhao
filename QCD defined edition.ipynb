{
 "cells": [
  {
   "cell_type": "code",
   "execution_count": 1,
   "metadata": {},
   "outputs": [],
   "source": [
    "import numpy as np\n",
    "import matplotlib.pyplot as plt\n",
    "from scipy.optimize import curve_fit\n",
    "from scipy import linalg"
   ]
  },
  {
   "cell_type": "code",
   "execution_count": 2,
   "metadata": {},
   "outputs": [],
   "source": [
    "def SU2(r):   # r is the distance from I\n",
    "    x = np.random.uniform(-1,1,4)  \n",
    "    x0 =np.sqrt(x[1]**2+x[2]**2+x[3]**2)\n",
    "    x[1:] = x[1:]/x0*r\n",
    "    x[0] = np.sqrt(1-r**2) # in this case norm(x)=1\n",
    "    z1 = complex(x[1],x[2])\n",
    "    z2 = complex(-x[1],x[2])\n",
    "    z0 = complex(x[0],x[3])\n",
    "    z4 = complex(x[0],-x[3])\n",
    "    M = np.matrix([[z0,z1],[z2,z4]])\n",
    "    return M"
   ]
  },
  {
   "cell_type": "code",
   "execution_count": 3,
   "metadata": {},
   "outputs": [],
   "source": [
    "def reSU2(Matrix):\n",
    "    a = Matrix[0,0]\n",
    "    b = Matrix[0,1]\n",
    "    n = a*a.conjugate()+b*b.conjugate()\n",
    "    n0 = np.sqrt(n)\n",
    "    a = a/n0\n",
    "    b = b/n0\n",
    "    Matrix = np.matrix([[a,b],[-b.conjugate(),a.conjugate()]])\n",
    "    return Matrix"
   ]
  },
  {
   "cell_type": "code",
   "execution_count": 4,
   "metadata": {},
   "outputs": [],
   "source": [
    "#generate Link variables in the lattice, with the size (T,X,Y,Z)\n",
    "#the link only defined in the positive direction,also restore the complex conjugate for the inverse\n",
    "def GenerateLink(T,X,Y,Z):\n",
    "    return np.zeros((T,X,Y,Z,8,2,2),dtype = np.complex128)"
   ]
  },
  {
   "cell_type": "code",
   "execution_count": 5,
   "metadata": {},
   "outputs": [],
   "source": [
    "# initial the Link as a cold start\n",
    "def coldIni(Link):\n",
    "    Sha = Link.shape\n",
    "    for t in range(Sha[0]):\n",
    "        for x in range(Sha[1]):\n",
    "            for y in range(Sha[2]):\n",
    "                for z in range(Sha[3]):\n",
    "                    for k in range(4):\n",
    "                        Link[t,x,y,z,k,:,:] = np.identity(2,dtype=np.complex128)\n",
    "                        Link[t,x,y,z,k+4,:,:] = np.identity(2,dtype=np.complex128)\n",
    "        print('\\r',(t+1)/Sha[0],end='')"
   ]
  },
  {
   "cell_type": "code",
   "execution_count": 6,
   "metadata": {},
   "outputs": [],
   "source": [
    "def hotIni(Link):\n",
    "    Sha = Link.shape\n",
    "    for t in range(Sha[0]):\n",
    "        for x in range(Sha[1]):\n",
    "            for y in range(Sha[2]):\n",
    "                for z in range(Sha[3]):\n",
    "                    for k in range(4):\n",
    "                        M1 = SU2()\n",
    "                        M2 = M1.getH()\n",
    "                        Link[t,x,y,z,k,:,:] = M1\n",
    "                        Link[t,x,y,z,k+4,:,:] = M2\n",
    "        print('/r',t/Sha[0],end='')"
   ]
  },
  {
   "cell_type": "code",
   "execution_count": 7,
   "metadata": {},
   "outputs": [],
   "source": [
    "#  bd condition\n",
    "def Move(u,a,t,x,y,z,sh): # a single move on lattice\n",
    "    if u == 0:\n",
    "        t = (t+a)%sh[0]\n",
    "    if u == 1:\n",
    "        x = (x+a)%sh[1]\n",
    "    if u == 2:\n",
    "        y = (y+a)%sh[2]\n",
    "    if u == 3:\n",
    "        z = (z+a)%sh[3]\n",
    "    return t,x,y,z\n",
    "\n"
   ]
  },
  {
   "cell_type": "code",
   "execution_count": 8,
   "metadata": {},
   "outputs": [],
   "source": [
    "def update(Link,u,t,x,y,z,beta):  # update one point and one direction\n",
    "    sh = Link.shape\n",
    "    A = np.zeros((2,2),dtype = np.complex128)\n",
    "    for v in range(4):\n",
    "        if v != u:\n",
    "            t1,x1,y1,z1 = t,x,y,z\n",
    "            t2,x2,y2,z2 = t,x,y,z\n",
    "            t1,x1,y1,z1 = Move(u,1,t1,x1,y1,z1,sh)   \n",
    "            Uv1 = Link[t1,x1,y1,z1,v,:,:] \n",
    "            t1,x1,y1,z1 = Move(u,-1,t1,x1,y1,z1,sh) \n",
    "            t1,x1,y1,z1 = Move(v,+1,t1,x1,y1,z1,sh)            \n",
    "            Uuc = Link[t1,x1,y1,z1,u+4,:,:] \n",
    "            t1,x1,y1,z1 = Move(v,-1,t1,x1,y1,z1,sh) \n",
    "            Uvc = Link[t1,x1,y1,z1,v+4,:,:]      \n",
    "            t2,x2,y2,z2 = Move(u,1,t2,x2,y2,z2,sh)   \n",
    "            t2,x2,y2,z2 = Move(v,-1,t2,x2,y2,z2,sh)\n",
    "            Uv2c = Link[t2,x2,y2,z2,v+4,:,:]           \n",
    "            t2,x2,y2,z2 = Move(u,-1,t2,x2,y2,z2,sh)\n",
    "            Uu2c = Link[t2,x2,y2,z2,u+4,:,:]\n",
    "            Uv2  = Link[t2,x2,y2,z2,v,:,:]           \n",
    "            A = A + Uv1@Uuc@Uvc + Uv2c@Uu2c@Uv2\n",
    "    acceptence = 0\n",
    "    hits = 10  #update each point several(10) times before move to another point    \n",
    "    for i in range(hits):        \n",
    "            newLink = SU2(0.45)@Link[t,x,y,z,u,:,:] #0.45 is choosen to make acceptence rate around 0.5\n",
    "            Tr = np.trace((newLink - Link[t,x,y,z,u,:,:])@A)\n",
    "            deltaS = -(beta/2)*Tr.real\n",
    "            if  np.exp(-deltaS) > np.random.random(): \n",
    "                renew = reSU2(newLink)\n",
    "                Link[t,x,y,z,u,:,:] = renew\n",
    "                Link[t,x,y,z,u+4,:,:] = np.matrix(renew).getH()\n",
    "                acceptence = acceptence +1\n",
    "    return Link,acceptence/hits"
   ]
  },
  {
   "cell_type": "code",
   "execution_count": 9,
   "metadata": {},
   "outputs": [
    {
     "data": {
      "text/plain": [
       "'\\nT = 32\\nX = 12\\nY = 12\\nZ = 12\\nbeta = 2.3\\nLink = GenerateLink(T,X,Y,Z)\\ncoldIni(Link)\\n'"
      ]
     },
     "execution_count": 9,
     "metadata": {},
     "output_type": "execute_result"
    }
   ],
   "source": [
    "'''\n",
    "T = 32\n",
    "X = 12\n",
    "Y = 12\n",
    "Z = 12\n",
    "beta = 2.3\n",
    "Link = GenerateLink(T,X,Y,Z)\n",
    "coldIni(Link)\n",
    "'''"
   ]
  },
  {
   "cell_type": "code",
   "execution_count": 10,
   "metadata": {},
   "outputs": [
    {
     "data": {
      "text/plain": [
       "\"\\nacc = []\\n# 29/02/2020  around 1.00pm first start 0-200 config saved \\n# end at 20:11\\nfor N in range(200):\\n    acceptence = np.zeros((T,X,Y,Z,4))\\n    for t in range(T):\\n        for x in range(X):\\n            for y in range(Y):\\n                for z in range(Z):\\n                    for k in range(4):\\n                        Link,acceptence[t,x,y,z,k] = update(Link,k,t,x,y,z,beta)\\n    acc.append(np.mean(acceptence))\\n    filename = 'F:\\\\QCD\\\\gauge_configs\\\\'+ str(N)\\n    np.save(filename,Link)\\n    print(N)\\n\""
      ]
     },
     "execution_count": 10,
     "metadata": {},
     "output_type": "execute_result"
    }
   ],
   "source": [
    "'''\n",
    "acc = []\n",
    "# 29/02/2020  around 1.00pm first start 0-200 config saved \n",
    "# end at 20:11\n",
    "for N in range(200):\n",
    "    acceptence = np.zeros((T,X,Y,Z,4))\n",
    "    for t in range(T):\n",
    "        for x in range(X):\n",
    "            for y in range(Y):\n",
    "                for z in range(Z):\n",
    "                    for k in range(4):\n",
    "                        Link,acceptence[t,x,y,z,k] = update(Link,k,t,x,y,z,beta)\n",
    "    acc.append(np.mean(acceptence))\n",
    "    filename = 'F:\\QCD\\gauge_configs\\\\'+ str(N)\n",
    "    np.save(filename,Link)\n",
    "    print(N)\n",
    "'''"
   ]
  },
  {
   "cell_type": "code",
   "execution_count": 11,
   "metadata": {},
   "outputs": [],
   "source": [
    "#np.mean(acc)"
   ]
  },
  {
   "cell_type": "code",
   "execution_count": 12,
   "metadata": {},
   "outputs": [],
   "source": [
    "#np.var(acc)"
   ]
  },
  {
   "cell_type": "markdown",
   "metadata": {},
   "source": [
    "acceptence rate: 0.497867(4)"
   ]
  },
  {
   "cell_type": "code",
   "execution_count": 9,
   "metadata": {
    "scrolled": true
   },
   "outputs": [
    {
     "name": "stdout",
     "output_type": "stream",
     "text": [
      " 199"
     ]
    }
   ],
   "source": [
    "T = 32\n",
    "X = 12\n",
    "Y = 12\n",
    "Z = 12\n",
    "beta = 2.3\n",
    "acc = []\n",
    "# 01/03/2020  13:00  200-399\n",
    "# 02/03/2020  13:05  400-599  17:40 102 (4*60+30)/100=2.7 min with 1 config  19:52 150\n",
    "Link = np.load('F:\\QCD\\gauge_configs\\\\\\899.npy')  # one should change this when programme start\n",
    "for N in range(200):\n",
    "    acceptence = np.zeros((T,X,Y,Z,4))\n",
    "    for t in range(T):\n",
    "        for x in range(X):\n",
    "            for y in range(Y):\n",
    "                for z in range(Z):\n",
    "                    for k in range(4):\n",
    "                        Link,acceptence[t,x,y,z,k] = update(Link,k,t,x,y,z,beta)\n",
    "    acc.append(np.mean(acceptence))\n",
    "    filename = 'F:\\QCD\\gauge_configs\\\\'+ str(N+900) # also change this one\n",
    "    np.save(filename,Link)\n",
    "    print('\\r',N,end='')"
   ]
  },
  {
   "cell_type": "code",
   "execution_count": null,
   "metadata": {},
   "outputs": [],
   "source": []
  }
 ],
 "metadata": {
  "kernelspec": {
   "display_name": "Python 3",
   "language": "python",
   "name": "python3"
  },
  "language_info": {
   "codemirror_mode": {
    "name": "ipython",
    "version": 3
   },
   "file_extension": ".py",
   "mimetype": "text/x-python",
   "name": "python",
   "nbconvert_exporter": "python",
   "pygments_lexer": "ipython3",
   "version": "3.7.4"
  }
 },
 "nbformat": 4,
 "nbformat_minor": 2
}
